{
 "cells": [
  {
   "cell_type": "code",
   "execution_count": 1,
   "metadata": {},
   "outputs": [],
   "source": [
    "import pandas as pd\n",
    "import numpy as np\n",
    "from scipy.stats import norm\n",
    "import matplotlib.pyplot as plt"
   ]
  },
  {
   "cell_type": "markdown",
   "metadata": {},
   "source": [
    "## Testing normality with Kolmogorov-Smirnov visually"
   ]
  },
  {
   "cell_type": "markdown",
   "metadata": {},
   "source": [
    "The KS test is used to contrast goodness-of-fit hypotheses with a quantitative variable. It is based on the comparison of two distribution functions, one empirical, estimated from the collected data, and one theoretical. The theoretical distribution is the one we want to use to test the hypothesis. It is usually a normal distribution function. It represents the cumulative probabilities that would be expected from the scores of the variable if it were really normally distributed.\n",
    "\n",
    "The statistic that quantifies how much the two distributions \"look alike\" is $D_{KS}$, which represents the maximum difference found between the points of both cumulative probability distributions $D_{KS}=max\\;|D_i|=max\\;|F(Y_i)-F_0(Y_i)|$. This statistic has a sample distribution associated with it, so we can calculate the probability of finding a maximum difference like the one actually obtained, or more extreme, given the null hypothesis that the variable is normally distributed (with the parameters we provide)\n",
    "\n",
    "\n",
    "Although the information provided by this test is very useful, it happens that with large samples, small deviations from normality can be statistically significant, leading us to think that the variable analyzed is nothing like normal. Having a graphic support can be very convenient in these cases, as it can help us to nuance our conclusions. \n",
    "\n",
    "Next, I present a way in which the procedure carried out in a 'hidden' way by the KS test could be visualized to provide support for decision making."
   ]
  },
  {
   "cell_type": "markdown",
   "metadata": {},
   "source": [
    "#### The sample of data on which we are going to perform the KS test for normality"
   ]
  },
  {
   "cell_type": "code",
   "execution_count": 2,
   "metadata": {},
   "outputs": [
    {
     "data": {
      "text/plain": [
       "array([1.48, 1.8 , 1.93, 1.98, 2.04, 2.08, 2.18, 2.2 , 2.3 , 2.45, 2.47,\n",
       "       3.15, 3.46, 4.64])"
      ]
     },
     "execution_count": 2,
     "metadata": {},
     "output_type": "execute_result"
    }
   ],
   "source": [
    "Yi=np.array([1.48,1.8,1.93,1.98,2.04,2.08,2.18,2.2,2.3,2.45,2.47,3.15,3.46,4.64]) # data from Pardo & Ruiz (2015) pp.68\n",
    "Yi"
   ]
  },
  {
   "cell_type": "markdown",
   "metadata": {},
   "source": [
    "#### How to get the empirical cumulative distribution function $F(Y_i)$?\n",
    "\n",
    "- Sort scores in ascending order\n",
    "- The cumulative prob up to one value $Y_i$ is $F(Y_i)=\\frac{i}{n}$ where $i$ is the position each value $Y_i$ occupies in sorted array and $n$ is the sample size"
   ]
  },
  {
   "cell_type": "code",
   "execution_count": 3,
   "metadata": {},
   "outputs": [
    {
     "data": {
      "text/plain": [
       "array([1.48, 1.8 , 1.93, 1.98, 2.04, 2.08, 2.18, 2.2 , 2.3 , 2.45, 2.47,\n",
       "       3.15, 3.46, 4.64])"
      ]
     },
     "metadata": {},
     "output_type": "display_data"
    },
    {
     "data": {
      "text/plain": [
       "array([0.07142857, 0.14285714, 0.21428571, 0.28571429, 0.35714286,\n",
       "       0.42857143, 0.5       , 0.57142857, 0.64285714, 0.71428571,\n",
       "       0.78571429, 0.85714286, 0.92857143, 1.        ])"
      ]
     },
     "metadata": {},
     "output_type": "display_data"
    }
   ],
   "source": [
    "sorted_Yi=np.sort(Yi) \n",
    "display(sorted_Yi)\n",
    "\n",
    "emp_cdf=np.arange(start=1,stop=len(Yi)+1)/(len(Yi)) #len +1 because the stop value is not inclusive\n",
    "display(emp_cdf)"
   ]
  },
  {
   "cell_type": "markdown",
   "metadata": {},
   "source": [
    "#### How to get the theoretical cumulative distribution function $F_0(Y_i)$?\n",
    "\n",
    "- Just compute the corresponding cumulative probability in the normal distribution (with the specified parameters) of the observed values $Y_i$"
   ]
  },
  {
   "cell_type": "code",
   "execution_count": 4,
   "metadata": {},
   "outputs": [
    {
     "data": {
      "text/plain": [
       "array([0.15386423, 0.24196365, 0.28433885, 0.30153179, 0.32275811,\n",
       "       0.33724273, 0.37448417, 0.38208858, 0.42074029, 0.48006119,\n",
       "       0.48803353, 0.74215389, 0.83147239, 0.98382262])"
      ]
     },
     "execution_count": 4,
     "metadata": {},
     "output_type": "execute_result"
    }
   ],
   "source": [
    "theor_cdf=norm.cdf(Yi,loc=2.5,scale=1)\n",
    "theor_cdf"
   ]
  },
  {
   "cell_type": "markdown",
   "metadata": {},
   "source": [
    "#### How we calculate the KS statistic $D_{KS}$?\n",
    "\n",
    "$D_{KS}=max\\;|D_i|=max\\;|F(Y_i)-F_0(Y_i)|$"
   ]
  },
  {
   "cell_type": "code",
   "execution_count": 5,
   "metadata": {},
   "outputs": [
    {
     "data": {
      "text/plain": [
       "0.29768075912839825"
      ]
     },
     "execution_count": 5,
     "metadata": {},
     "output_type": "execute_result"
    }
   ],
   "source": [
    "Di=emp_cdf-theor_cdf\n",
    "DKS=max(abs(Di))\n",
    "DKS"
   ]
  },
  {
   "cell_type": "markdown",
   "metadata": {},
   "source": [
    "For the purpose of visualizing everything we can join all the data in a dataframe"
   ]
  },
  {
   "cell_type": "code",
   "execution_count": 6,
   "metadata": {},
   "outputs": [
    {
     "data": {
      "text/plain": [
       "array([[1.48      , 1.8       , 1.93      , 1.98      , 2.04      ,\n",
       "        2.08      , 2.18      , 2.2       , 2.3       , 2.45      ,\n",
       "        2.47      , 3.15      , 3.46      , 4.64      ],\n",
       "       [0.07142857, 0.14285714, 0.21428571, 0.28571429, 0.35714286,\n",
       "        0.42857143, 0.5       , 0.57142857, 0.64285714, 0.71428571,\n",
       "        0.78571429, 0.85714286, 0.92857143, 1.        ],\n",
       "       [0.15386423, 0.24196365, 0.28433885, 0.30153179, 0.32275811,\n",
       "        0.33724273, 0.37448417, 0.38208858, 0.42074029, 0.48006119,\n",
       "        0.48803353, 0.74215389, 0.83147239, 0.98382262],\n",
       "       [0.08243566, 0.09910651, 0.07005313, 0.0158175 , 0.03438475,\n",
       "        0.0913287 , 0.12551583, 0.18933999, 0.22211685, 0.23422452,\n",
       "        0.29768076, 0.11498897, 0.09709904, 0.01617738]])"
      ]
     },
     "metadata": {},
     "output_type": "display_data"
    },
    {
     "data": {
      "text/plain": [
       "(4, 14)"
      ]
     },
     "execution_count": 6,
     "metadata": {},
     "output_type": "execute_result"
    }
   ],
   "source": [
    "data=np.vstack((Yi,emp_cdf,theor_cdf,abs(Di)))\n",
    "display(data)\n",
    "data.shape"
   ]
  },
  {
   "cell_type": "code",
   "execution_count": 7,
   "metadata": {},
   "outputs": [
    {
     "data": {
      "text/html": [
       "<div>\n",
       "<style scoped>\n",
       "    .dataframe tbody tr th:only-of-type {\n",
       "        vertical-align: middle;\n",
       "    }\n",
       "\n",
       "    .dataframe tbody tr th {\n",
       "        vertical-align: top;\n",
       "    }\n",
       "\n",
       "    .dataframe thead th {\n",
       "        text-align: right;\n",
       "    }\n",
       "</style>\n",
       "<table border=\"1\" class=\"dataframe\">\n",
       "  <thead>\n",
       "    <tr style=\"text-align: right;\">\n",
       "      <th></th>\n",
       "      <th>0</th>\n",
       "      <th>1</th>\n",
       "      <th>2</th>\n",
       "      <th>3</th>\n",
       "      <th>4</th>\n",
       "      <th>5</th>\n",
       "      <th>6</th>\n",
       "      <th>7</th>\n",
       "      <th>8</th>\n",
       "      <th>9</th>\n",
       "      <th>10</th>\n",
       "      <th>11</th>\n",
       "      <th>12</th>\n",
       "      <th>13</th>\n",
       "    </tr>\n",
       "  </thead>\n",
       "  <tbody>\n",
       "    <tr>\n",
       "      <th>$Y_i$</th>\n",
       "      <td>1.480000</td>\n",
       "      <td>1.800000</td>\n",
       "      <td>1.930000</td>\n",
       "      <td>1.980000</td>\n",
       "      <td>2.040000</td>\n",
       "      <td>2.080000</td>\n",
       "      <td>2.180000</td>\n",
       "      <td>2.200000</td>\n",
       "      <td>2.300000</td>\n",
       "      <td>2.450000</td>\n",
       "      <td>2.470000</td>\n",
       "      <td>3.150000</td>\n",
       "      <td>3.460000</td>\n",
       "      <td>4.640000</td>\n",
       "    </tr>\n",
       "    <tr>\n",
       "      <th>$F(Y_i)$</th>\n",
       "      <td>0.071429</td>\n",
       "      <td>0.142857</td>\n",
       "      <td>0.214286</td>\n",
       "      <td>0.285714</td>\n",
       "      <td>0.357143</td>\n",
       "      <td>0.428571</td>\n",
       "      <td>0.500000</td>\n",
       "      <td>0.571429</td>\n",
       "      <td>0.642857</td>\n",
       "      <td>0.714286</td>\n",
       "      <td>0.785714</td>\n",
       "      <td>0.857143</td>\n",
       "      <td>0.928571</td>\n",
       "      <td>1.000000</td>\n",
       "    </tr>\n",
       "    <tr>\n",
       "      <th>$F_0(Y_i)$</th>\n",
       "      <td>0.153864</td>\n",
       "      <td>0.241964</td>\n",
       "      <td>0.284339</td>\n",
       "      <td>0.301532</td>\n",
       "      <td>0.322758</td>\n",
       "      <td>0.337243</td>\n",
       "      <td>0.374484</td>\n",
       "      <td>0.382089</td>\n",
       "      <td>0.420740</td>\n",
       "      <td>0.480061</td>\n",
       "      <td>0.488034</td>\n",
       "      <td>0.742154</td>\n",
       "      <td>0.831472</td>\n",
       "      <td>0.983823</td>\n",
       "    </tr>\n",
       "    <tr>\n",
       "      <th>$|D_i|$</th>\n",
       "      <td>0.082436</td>\n",
       "      <td>0.099107</td>\n",
       "      <td>0.070053</td>\n",
       "      <td>0.015818</td>\n",
       "      <td>0.034385</td>\n",
       "      <td>0.091329</td>\n",
       "      <td>0.125516</td>\n",
       "      <td>0.189340</td>\n",
       "      <td>0.222117</td>\n",
       "      <td>0.234225</td>\n",
       "      <td>0.297681</td>\n",
       "      <td>0.114989</td>\n",
       "      <td>0.097099</td>\n",
       "      <td>0.016177</td>\n",
       "    </tr>\n",
       "  </tbody>\n",
       "</table>\n",
       "</div>"
      ],
      "text/plain": [
       "                   0         1         2         3         4         5  \\\n",
       "$Y_i$       1.480000  1.800000  1.930000  1.980000  2.040000  2.080000   \n",
       "$F(Y_i)$    0.071429  0.142857  0.214286  0.285714  0.357143  0.428571   \n",
       "$F_0(Y_i)$  0.153864  0.241964  0.284339  0.301532  0.322758  0.337243   \n",
       "$|D_i|$     0.082436  0.099107  0.070053  0.015818  0.034385  0.091329   \n",
       "\n",
       "                   6         7         8         9        10        11  \\\n",
       "$Y_i$       2.180000  2.200000  2.300000  2.450000  2.470000  3.150000   \n",
       "$F(Y_i)$    0.500000  0.571429  0.642857  0.714286  0.785714  0.857143   \n",
       "$F_0(Y_i)$  0.374484  0.382089  0.420740  0.480061  0.488034  0.742154   \n",
       "$|D_i|$     0.125516  0.189340  0.222117  0.234225  0.297681  0.114989   \n",
       "\n",
       "                  12        13  \n",
       "$Y_i$       3.460000  4.640000  \n",
       "$F(Y_i)$    0.928571  1.000000  \n",
       "$F_0(Y_i)$  0.831472  0.983823  \n",
       "$|D_i|$     0.097099  0.016177  "
      ]
     },
     "execution_count": 7,
     "metadata": {},
     "output_type": "execute_result"
    }
   ],
   "source": [
    "df=pd.DataFrame(data.transpose(),columns=[r'$Y_i$',r'$F(Y_i)$',r'$F_0(Y_i)$',r'$|D_i|$'])\n",
    "df.transpose()"
   ]
  },
  {
   "cell_type": "markdown",
   "metadata": {},
   "source": [
    "Now we can wrap up everything into a nice function that plots the two CDFs and tells you the $D_{KS}$ value"
   ]
  },
  {
   "cell_type": "code",
   "execution_count": 29,
   "metadata": {},
   "outputs": [
    {
     "data": {
      "text/plain": [
       "0.13267833384922212"
      ]
     },
     "execution_count": 29,
     "metadata": {},
     "output_type": "execute_result"
    }
   ],
   "source": [
    "from math import sqrt\n",
    "\n",
    "Zks=max(abs(emp_cdf-theor_cdf)*sqrt(len(Yi)))\n",
    "norm.cdf(-Zks,loc=0,scale=1)"
   ]
  },
  {
   "cell_type": "code",
   "execution_count": 8,
   "metadata": {},
   "outputs": [],
   "source": [
    "def ks_test(Yi,mu,sigma):\n",
    "    \"\"\"\n",
    "    Takes an array of values and returns its CDF and\n",
    "    its theoretical CDF if it were normal. Also returns\n",
    "    the value of the DKS statistic.\n",
    "\n",
    "    Parameters\n",
    "    ----------\n",
    "    Yi : 1-D array-like (np.array or list)\n",
    "        Vector of values that correspond to the observed values\n",
    "        of our variable of interest.\n",
    "    mu : int or float\n",
    "        Expected value of the normal distribution we are testing.\n",
    "    sigma : int or float\n",
    "        Standard deviation of the normal distribution we are testing.\n",
    "\n",
    "    Returns\n",
    "    -------\n",
    "    float.\n",
    "        Value corresponding to the statistic DKS:\n",
    "            DKS=max(abs(empirical_CDF - theoretical_CDF))\n",
    "\n",
    "    \"\"\"\n",
    "    \n",
    "    sorted_Yi=np.sort(Yi)\n",
    "    emp_cdf=np.arange(start=1,stop=len(Yi)+1)/(len(Yi))\n",
    "    theor_cdf=norm.cdf(sorted_Yi,loc=mu,scale=sigma)\n",
    "    DKS=max(abs(emp_cdf-theor_cdf))\n",
    "    \n",
    "    fig,ax=plt.subplots()\n",
    "\n",
    "    fig.suptitle('Kolmogorov-Smirnov visual test', fontsize=14, fontweight='bold')\n",
    "\n",
    "    ax.scatter(sorted_Yi,emp_cdf,\n",
    "               label='Empirical CDF',\n",
    "               c='#ff6b6b',\n",
    "               edgecolor='black',\n",
    "               linewidths=.7,\n",
    "              alpha=.8)\n",
    "    ax.plot(sorted_Yi,emp_cdf,c='#ff6b6b',alpha=.4) # just to see the 'trajectory of the points'\n",
    "\n",
    "    ax.scatter(sorted_Yi,theor_cdf,\n",
    "               label='Theoretical CDF',\n",
    "               c='#4ecdc4',\n",
    "               edgecolor='black',\n",
    "               linewidths=.7,\n",
    "              alpha=.8)\n",
    "    ax.plot(sorted_Yi,theor_cdf,c='#4ecdc4',alpha=.4) # just to see the 'trajectory of the points'\n",
    "\n",
    "    if isinstance(Yi,pd.Series):\n",
    "        ax.set_xlabel(Yi.name)\n",
    "    else:\n",
    "        ax.set_xlabel(r'$Y_i$')\n",
    "    ax.set_ylabel('Cumulative probability')\n",
    "    ax.legend(loc='center right');\n",
    "    \n",
    "    return DKS"
   ]
  },
  {
   "cell_type": "markdown",
   "metadata": {},
   "source": [
    "## Examples"
   ]
  },
  {
   "cell_type": "code",
   "execution_count": 9,
   "metadata": {},
   "outputs": [],
   "source": [
    "plt.style.use('seaborn')"
   ]
  },
  {
   "cell_type": "markdown",
   "metadata": {},
   "source": [
    "First test\n",
    "\n",
    "$H_0:F(Y_i)=N(2.5,1) \\\\H_0:F(Y_i)\\neq N(2.5,1)$"
   ]
  },
  {
   "cell_type": "code",
   "execution_count": 10,
   "metadata": {},
   "outputs": [
    {
     "data": {
      "text/plain": [
       "0.29768075912839825"
      ]
     },
     "execution_count": 10,
     "metadata": {},
     "output_type": "execute_result"
    },
    {
     "data": {
      "image/png": "[encoded data removed]",
      "text/plain": [
       "<Figure size 576x396 with 1 Axes>"
      ]
     },
     "metadata": {},
     "output_type": "display_data"
    }
   ],
   "source": [
    "ks_test(Yi,mu=2.5,sigma=1) # Yi represents the data from before"
   ]
  },
  {
   "cell_type": "markdown",
   "metadata": {},
   "source": [
    "Second test\n",
    "\n",
    "$H_0:F(Y_i)=N(100,15) \\\\H_0:F(Y_i)\\neq N(100,15)$"
   ]
  },
  {
   "cell_type": "code",
   "execution_count": 15,
   "metadata": {},
   "outputs": [],
   "source": [
    "IQ=pd.DataFrame(np.random.normal(loc=100,scale=15,size=100),\n",
    "                columns=['IQ Scores'])"
   ]
  },
  {
   "cell_type": "code",
   "execution_count": 16,
   "metadata": {},
   "outputs": [
    {
     "data": {
      "text/plain": [
       "0.03757355688667349"
      ]
     },
     "execution_count": 16,
     "metadata": {},
     "output_type": "execute_result"
    },
    {
     "data": {
      "image/png": "[encoded data removed]",
      "text/plain": [
       "<Figure size 576x396 with 1 Axes>"
      ]
     },
     "metadata": {},
     "output_type": "display_data"
    }
   ],
   "source": [
    "ks_test(IQ['IQ Scores'],mu=100,sigma=15)"
   ]
  },
  {
   "cell_type": "markdown",
   "metadata": {},
   "source": [
    "## Comments\n",
    "\n",
    "- With this function you get the value of DKS but no p-values are returned. However, because the cumulative probability functions are plotted, you can get a idea of the goodness of fit of your variable to the normal distribution if the points overlap or not\n",
    "\n",
    "- This function allows to visually check if the shape of the distribution of a variable fits the normal distribution (with the parameters that are specified), eventhough in principle the KS test allows to test goodness of fit to any distribution. However, the most common is to check if the variable of interest is normally distributed"
   ]
  },
  {
   "cell_type": "markdown",
   "metadata": {},
   "source": [
    "## References\n",
    "\n",
    "Pardo, A., Ruiz, M.A. (2015). Inferencia con una variable. In A. Pardo, M.A. Ruiz y R. San Martín (Eds.), Análisis de datos en ciencias sociales y de la salud II (pp.52-80). Editorial Síntesis."
   ]
  },
  {
   "cell_type": "code",
   "execution_count": null,
   "metadata": {},
   "outputs": [],
   "source": []
  }
 ],
 "metadata": {
  "kernelspec": {
   "display_name": "Python 3",
   "language": "python",
   "name": "python3"
  },
  "language_info": {
   "codemirror_mode": {
    "name": "ipython",
    "version": 3
   },
   "file_extension": ".py",
   "mimetype": "text/x-python",
   "name": "python",
   "nbconvert_exporter": "python",
   "pygments_lexer": "ipython3",
   "version": "3.7.7"
  }
 },
 "nbformat": 4,
 "nbformat_minor": 4
}
